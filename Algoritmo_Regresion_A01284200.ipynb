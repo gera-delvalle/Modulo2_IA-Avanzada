{
  "nbformat": 4,
  "nbformat_minor": 0,
  "metadata": {
    "colab": {
      "provenance": [],
      "collapsed_sections": [],
      "authorship_tag": "ABX9TyMVtBRxbDDR2RuGUsr1Uu2m",
      "include_colab_link": true
    },
    "kernelspec": {
      "name": "python3",
      "display_name": "Python 3"
    },
    "language_info": {
      "name": "python"
    }
  },
  "cells": [
    {
      "cell_type": "markdown",
      "metadata": {
        "id": "view-in-github",
        "colab_type": "text"
      },
      "source": [
        "<a href=\"https://colab.research.google.com/github/gera-delvalle/Modulo2_IA-Avanzada/blob/main/Algoritmo_Regresion_A01284200.ipynb\" target=\"_parent\"><img src=\"https://colab.research.google.com/assets/colab-badge.svg\" alt=\"Open In Colab\"/></a>"
      ]
    },
    {
      "cell_type": "code",
      "source": [
        "import pandas as pd\n",
        "import numpy as np"
      ],
      "metadata": {
        "id": "wZUbijhxn6-4"
      },
      "execution_count": null,
      "outputs": []
    },
    {
      "cell_type": "code",
      "source": [
        "from google.colab import drive\n",
        "drive.mount('/content/drive')"
      ],
      "metadata": {
        "colab": {
          "base_uri": "https://localhost:8080/"
        },
        "id": "rJd_uk89n3bG",
        "outputId": "e0d1c7a5-40e3-4481-c845-399627af5d04"
      },
      "execution_count": null,
      "outputs": [
        {
          "output_type": "stream",
          "name": "stdout",
          "text": [
            "Mounted at /content/drive\n"
          ]
        }
      ]
    },
    {
      "cell_type": "markdown",
      "source": [
        "# Regresión Lineal Simple"
      ],
      "metadata": {
        "id": "0JpXKHBzA3Gi"
      }
    },
    {
      "cell_type": "code",
      "source": [
        "def predict_y(x_list, m,c):\n",
        "  y_predictions = []\n",
        "  for i in x_list:\n",
        "    y_pred = m * i +c\n",
        "    y_predictions.append(y_pred)\n",
        "\n",
        "  return y_predictions"
      ],
      "metadata": {
        "id": "jLbfHQWagdUP"
      },
      "execution_count": null,
      "outputs": []
    },
    {
      "cell_type": "code",
      "source": [
        "def calculate_dc(y,y_pred, n):\n",
        "  valores_sum = []\n",
        "  for i in range(len(y)):\n",
        "    resta = y[i]-y_pred[i]\n",
        "    valores_sum.append(resta)\n",
        "  \n",
        "  dc = sum(valores_sum)\n",
        "\n",
        "  dc = ((-2)/n)*dc\n",
        "\n",
        "  return dc"
      ],
      "metadata": {
        "id": "UZ51Q2ofhdQG"
      },
      "execution_count": null,
      "outputs": []
    },
    {
      "cell_type": "code",
      "source": [
        "def calculate_dm(y,y_pred, n,x):\n",
        "  valores_sum = []\n",
        "  for i in range(len(y)):\n",
        "    resta = 0\n",
        "    resta = y[i]-y_pred[i]\n",
        "    r = resta*x[i]\n",
        "    valores_sum.append(r)\n",
        "  \n",
        "  dm = sum(valores_sum)\n",
        "\n",
        "  dm = ((-2)/n)*dm\n",
        "\n",
        "  return dm"
      ],
      "metadata": {
        "id": "oXgg71B8lLv-"
      },
      "execution_count": null,
      "outputs": []
    },
    {
      "cell_type": "code",
      "source": [
        "def cost_function(y,m,c,n,x):\n",
        "  y_pred = predict_y(x,m,c)\n",
        "  y_list = []\n",
        "  for i in range(len(y)):\n",
        "    resta = (y[i]-y_pred[i])**2\n",
        "    y_list.append(resta)\n",
        "\n",
        "  sumatoria = sum(y_list)\n",
        "  mse = (1/n)*sumatoria\n",
        "\n",
        "  return mse"
      ],
      "metadata": {
        "id": "3ayOHpkOvDnB"
      },
      "execution_count": null,
      "outputs": []
    },
    {
      "cell_type": "code",
      "source": [
        "def regresion_lineal(lista_x,lista_y,l_rate):\n",
        "  m = 0 \n",
        "  c = 0\n",
        "  new_m = 0\n",
        "  new_c = 0\n",
        "  cost_values = []\n",
        "  n= len(X_train)\n",
        "  for i in range(500):\n",
        "    m = new_m\n",
        "    c = new_c\n",
        "    predicted_yvalues = predict_y(X_train, m,c)\n",
        "    dc_value = calculate_dc(y_train,predicted_yvalues, n)\n",
        "    dm_value = calculate_dm(y_train,predicted_yvalues, n,X_train)\n",
        "\n",
        "    new_m = m-l_rate*dm_value\n",
        "    new_c = c-l_rate*dc_value\n",
        "\n",
        "    costo = cost_function(y_train,new_m,new_c,n,X_train)\n",
        "    cost_values.append(costo)\n",
        "\n",
        "  return new_m,new_c,cost_values"
      ],
      "metadata": {
        "id": "qd5j1r209POd"
      },
      "execution_count": null,
      "outputs": []
    },
    {
      "cell_type": "markdown",
      "source": [
        "# Entrenar Modelo"
      ],
      "metadata": {
        "id": "OWi1ofomA73l"
      }
    },
    {
      "cell_type": "code",
      "source": [
        "#df = pd.read_csv('/content/drive/MyDrive/Inteligencia Artificial Avanzada/student_scores.csv')"
      ],
      "metadata": {
        "id": "I591i1DFiS-Q"
      },
      "execution_count": null,
      "outputs": []
    },
    {
      "cell_type": "code",
      "source": [
        "#df.head(2)"
      ],
      "metadata": {
        "id": "kusPRSvyoKjS"
      },
      "execution_count": null,
      "outputs": []
    },
    {
      "cell_type": "code",
      "source": [
        "#training_data = df.sample(frac=0.8, random_state=25)\n",
        "#testing_data = df.drop(training_data.index)"
      ],
      "metadata": {
        "id": "ue-f7jpYokTW"
      },
      "execution_count": null,
      "outputs": []
    },
    {
      "cell_type": "code",
      "source": [
        "#X_train = training_data['Hours'].to_numpy()\n",
        "#y_train = training_data['Scores'].to_numpy()\n",
        "\n",
        "#X_test = testing_data['Hours'].to_numpy()\n",
        "#y_test = testing_data['Scores'].to_numpy()"
      ],
      "metadata": {
        "id": "yfpCdXOuoMeq"
      },
      "execution_count": null,
      "outputs": []
    },
    {
      "cell_type": "code",
      "source": [
        "X_train = np.array([3.2, 2.7, 1.9, 7.7, 4.8, 3.3, 2.5, 9.2, 2.5, 5.9, 2.7, 1.1, 6.9,\n",
        "       7.4, 8.5, 5.5, 5.1, 1.5, 7.8, 8.3])"
      ],
      "metadata": {
        "id": "k2TF66vyN0QL"
      },
      "execution_count": null,
      "outputs": []
    },
    {
      "cell_type": "code",
      "source": [
        "y_train = np.array([27, 25, 24, 85, 54, 42, 21, 88, 30, 62, 30, 17, 76, 69, 75, 60, 47,\n",
        "       20, 86, 81])"
      ],
      "metadata": {
        "id": "QLBoWlcmNRyQ"
      },
      "execution_count": null,
      "outputs": []
    },
    {
      "cell_type": "code",
      "source": [
        "X_test = np.array([3.5, 4.5, 8.9, 6.1, 3.8])"
      ],
      "metadata": {
        "id": "_bPVTXsQNUla"
      },
      "execution_count": null,
      "outputs": []
    },
    {
      "cell_type": "code",
      "source": [
        "y_test = np.array([30, 41, 95, 67, 35])"
      ],
      "metadata": {
        "id": "2MokobsRNV1T"
      },
      "execution_count": null,
      "outputs": []
    },
    {
      "cell_type": "code",
      "source": [
        "m,c,costos = regresion_lineal(X_train,y_train,0.01)"
      ],
      "metadata": {
        "id": "GFo8Dpng_J0P"
      },
      "execution_count": null,
      "outputs": []
    },
    {
      "cell_type": "markdown",
      "source": [
        "#Test"
      ],
      "metadata": {
        "id": "xOgrrLBs9L3j"
      }
    },
    {
      "cell_type": "code",
      "source": [
        "y_predicted = predict_y(X_test,m,c)"
      ],
      "metadata": {
        "id": "GPQyt26u1NJT"
      },
      "execution_count": null,
      "outputs": []
    },
    {
      "cell_type": "code",
      "source": [
        "y_test"
      ],
      "metadata": {
        "colab": {
          "base_uri": "https://localhost:8080/"
        },
        "id": "Zig5Yfyy2G5l",
        "outputId": "ea8548c0-6a1c-42fb-8e27-e6d01dbf71a4"
      },
      "execution_count": null,
      "outputs": [
        {
          "output_type": "execute_result",
          "data": {
            "text/plain": [
              "array([30, 41, 95, 67, 35])"
            ]
          },
          "metadata": {},
          "execution_count": 18
        }
      ]
    },
    {
      "cell_type": "code",
      "source": [
        "y_predicted"
      ],
      "metadata": {
        "colab": {
          "base_uri": "https://localhost:8080/"
        },
        "id": "UrW9zla12AP1",
        "outputId": "d193ab38-53e8-481c-fec9-b9ae634c32f3"
      },
      "execution_count": null,
      "outputs": [
        {
          "output_type": "execute_result",
          "data": {
            "text/plain": [
              "[37.34556085685399,\n",
              " 46.84064982250929,\n",
              " 88.61904127139259,\n",
              " 62.03279216755776,\n",
              " 40.194087546550584]"
            ]
          },
          "metadata": {},
          "execution_count": 19
        }
      ]
    },
    {
      "cell_type": "code",
      "source": [
        "from sklearn.metrics import r2_score\n",
        "\n",
        "r2 = r2_score(y_test, y_predicted)\n",
        "print('r2 score for a model which predicts mean value always is', r2)"
      ],
      "metadata": {
        "colab": {
          "base_uri": "https://localhost:8080/"
        },
        "id": "TrgRVXCS1Yir",
        "outputId": "578e6ee5-9a75-4288-c85b-fd7181c8aa47"
      },
      "execution_count": null,
      "outputs": [
        {
          "output_type": "stream",
          "name": "stdout",
          "text": [
            "r2 score for a model which predicts mean value always is 0.9389419369115384\n"
          ]
        }
      ]
    },
    {
      "cell_type": "code",
      "source": [
        "from matplotlib import pyplot as plt\n",
        "\n",
        "plt.plot(costos)"
      ],
      "metadata": {
        "colab": {
          "base_uri": "https://localhost:8080/",
          "height": 283
        },
        "id": "S5fNOnFr2WRy",
        "outputId": "66dab6be-9c32-4c81-be32-f37efecfad16"
      },
      "execution_count": null,
      "outputs": [
        {
          "output_type": "execute_result",
          "data": {
            "text/plain": [
              "[<matplotlib.lines.Line2D at 0x7fb9a022de90>]"
            ]
          },
          "metadata": {},
          "execution_count": 21
        },
        {
          "output_type": "display_data",
          "data": {
            "text/plain": [
              "<Figure size 432x288 with 1 Axes>"
            ],
            "image/png": "[encoded data removed]"
          },
          "metadata": {
            "needs_background": "light"
          }
        }
      ]
    },
    {
      "cell_type": "markdown",
      "source": [
        "# Regresión Lineal Multiple"
      ],
      "metadata": {
        "id": "VSYMgCq1BANM"
      }
    },
    {
      "cell_type": "code",
      "source": [
        "#df = pd.read_csv('/content/drive/MyDrive/Inteligencia Artificial Avanzada/Student_Marks.csv')"
      ],
      "metadata": {
        "id": "PC9qCIfsEHfu"
      },
      "execution_count": null,
      "outputs": []
    },
    {
      "cell_type": "code",
      "source": [
        "#df.head(10)"
      ],
      "metadata": {
        "id": "k8lLnOaNE5kC"
      },
      "execution_count": null,
      "outputs": []
    },
    {
      "cell_type": "code",
      "source": [
        "#training_data = df.sample(frac=0.8, random_state=25)\n",
        "#testing_data = df.drop(training_data.index)"
      ],
      "metadata": {
        "id": "QuFixSA1E83t"
      },
      "execution_count": null,
      "outputs": []
    },
    {
      "cell_type": "code",
      "source": [
        "#X_train = training_data[['number_courses','time_study']].to_numpy()\n",
        "#y_train = training_data['Marks'].to_numpy()\n",
        "\n",
        "#X_test = testing_data[['number_courses','time_study']].to_numpy()\n",
        "#y_test = testing_data['Marks'].to_numpy()"
      ],
      "metadata": {
        "id": "AnaycUwkFAf4"
      },
      "execution_count": null,
      "outputs": []
    },
    {
      "cell_type": "code",
      "source": [
        "X_train = np.array([[6.   , 2.754],\n",
        "       [4.   , 1.299],\n",
        "       [6.   , 6.594],\n",
        "       [6.   , 2.142],\n",
        "       [4.   , 6.954],\n",
        "       [3.   , 6.063],\n",
        "       [7.   , 7.649],\n",
        "       [7.   , 6.376],\n",
        "       [3.   , 1.033],\n",
        "       [7.   , 0.309],\n",
        "       [3.   , 4.508],\n",
        "       [7.   , 0.13 ],\n",
        "       [8.   , 2.262],\n",
        "       [3.   , 4.633],\n",
        "       [4.   , 5.473],\n",
        "       [8.   , 2.73 ],\n",
        "       [6.   , 3.561],\n",
        "       [3.   , 4.869],\n",
        "       [8.   , 7.468],\n",
        "       [4.   , 3.797],\n",
        "       [7.   , 7.957],\n",
        "       [3.   , 1.407],\n",
        "       [8.   , 4.378],\n",
        "       [3.   , 4.274],\n",
        "       [6.   , 4.13 ],\n",
        "       [6.   , 6.126],\n",
        "       [8.   , 7.591],\n",
        "       [8.   , 5.985],\n",
        "       [4.   , 3.635],\n",
        "       [3.   , 0.55 ],\n",
        "       [7.   , 4.218],\n",
        "       [3.   , 7.543],\n",
        "       [3.   , 0.301],\n",
        "       [8.   , 6.471],\n",
        "       [5.   , 3.413],\n",
        "       [8.   , 6.201],\n",
        "       [8.   , 3.919],\n",
        "       [3.   , 6.198],\n",
        "       [6.   , 3.591],\n",
        "       [3.   , 2.908],\n",
        "       [8.   , 6.08 ],\n",
        "       [4.   , 1.395],\n",
        "       [8.   , 3.977],\n",
        "       [4.   , 4.733],\n",
        "       [7.   , 0.508],\n",
        "       [8.   , 7.641],\n",
        "       [7.   , 6.049],\n",
        "       [7.   , 0.423],\n",
        "       [5.   , 3.197],\n",
        "       [7.   , 7.451],\n",
        "       [4.   , 3.736],\n",
        "       [6.   , 3.211],\n",
        "       [4.   , 3.133],\n",
        "       [4.   , 0.771],\n",
        "       [7.   , 6.533],\n",
        "       [5.   , 6.379],\n",
        "       [5.   , 1.557],\n",
        "       [4.   , 0.14 ],\n",
        "       [6.   , 7.283],\n",
        "       [8.   , 3.864],\n",
        "       [3.   , 4.083],\n",
        "       [5.   , 2.518],\n",
        "       [4.   , 7.163],\n",
        "       [6.   , 7.711],\n",
        "       [5.   , 3.913],\n",
        "       [3.   , 0.805],\n",
        "       [3.   , 0.803],\n",
        "       [6.   , 0.376],\n",
        "       [3.   , 7.353],\n",
        "       [8.   , 0.932],\n",
        "       [3.   , 6.173],\n",
        "       [4.   , 2.966],\n",
        "       [4.   , 5.027],\n",
        "       [5.   , 5.719],\n",
        "       [3.   , 1.629],\n",
        "       [4.   , 4.779],\n",
        "       [3.   , 5.635],\n",
        "       [5.   , 1.803],\n",
        "       [5.   , 2.051],\n",
        "       [7.   , 4.067]])"
      ],
      "metadata": {
        "id": "iHjP4XOSNZKe"
      },
      "execution_count": null,
      "outputs": []
    },
    {
      "cell_type": "code",
      "source": [
        "y_train = np.array([15.725,  8.837, 39.965, 13.562, 39.952, 29.889, 51.583, 40.024,\n",
        "        6.053, 12.027, 19.202, 12.591, 17.705, 20.398, 27.569, 19.564,\n",
        "       19.128, 21.379, 51.343, 16.703, 54.321,  6.623, 26.532, 17.672,\n",
        "       22.184, 35.939, 53.158, 38.278, 16.517,  6.185, 24.318, 43.978,\n",
        "        5.609, 42.426, 17.264, 39.957, 24.451, 31.236, 19.771, 11.397,\n",
        "       38.49 ,  8.92 , 25.133, 22.073, 12.647, 53.359, 36.653, 12.132,\n",
        "       16.106, 49.544, 16.606, 17.822, 13.811,  7.892, 41.358, 36.746,\n",
        "       10.429,  7.336, 46.453, 24.172, 17.171, 13.416, 41.444, 50.986,\n",
        "       19.106,  6.349,  6.217, 10.522, 42.036, 15.038, 30.862, 13.119,\n",
        "       23.916, 30.548,  7.014, 22.701, 26.882, 11.253, 12.209, 23.149])"
      ],
      "metadata": {
        "id": "tagT76A3Nav1"
      },
      "execution_count": null,
      "outputs": []
    },
    {
      "cell_type": "code",
      "source": [
        "X_test = np.array([[4.   , 0.096],\n",
        "       [6.   , 7.909],\n",
        "       [8.   , 7.811],\n",
        "       [4.   , 4.41 ],\n",
        "       [4.   , 4.26 ],\n",
        "       [7.   , 4.875],\n",
        "       [5.   , 0.156],\n",
        "       [3.   , 1.923],\n",
        "       [6.   , 7.775],\n",
        "       [4.   , 1.954],\n",
        "       [3.   , 2.061],\n",
        "       [6.   , 6.703],\n",
        "       [7.   , 2.913],\n",
        "       [4.   , 2.438],\n",
        "       [6.   , 3.606],\n",
        "       [6.   , 3.948],\n",
        "       [4.   , 7.41 ],\n",
        "       [8.   , 1.982],\n",
        "       [7.   , 4.182],\n",
        "       [3.   , 6.335]])"
      ],
      "metadata": {
        "id": "ZgGbFkqINc0H"
      },
      "execution_count": null,
      "outputs": []
    },
    {
      "cell_type": "code",
      "source": [
        "y_test = np.array([ 7.734, 53.018, 55.299, 20.348, 19.466, 28.043,  9.333,  8.1  ,\n",
        "       51.142,  9.742,  8.924, 40.602, 18.238, 10.844, 19.59 , 21.4  ,\n",
        "       44.099, 16.461, 24.394, 32.357])"
      ],
      "metadata": {
        "id": "Bmi9GBYQNdyT"
      },
      "execution_count": null,
      "outputs": []
    },
    {
      "cell_type": "code",
      "source": [
        "def predict_y_multiple(x_list, m_list,c):\n",
        "  y_predictions = []\n",
        "  for i in range(len(x_list)):\n",
        "\n",
        "    y_pred = x_list[i]@m_list + c\n",
        "    y_predictions.append(y_pred)\n",
        "\n",
        "  return y_predictions"
      ],
      "metadata": {
        "id": "boliuvFnAMEy"
      },
      "execution_count": null,
      "outputs": []
    },
    {
      "cell_type": "code",
      "source": [
        "def cost_function_multiple(y,m,c,n,x):\n",
        "  y_pred = predict_y_multiple(x,m,c)\n",
        "  y_list = []\n",
        "  for i in range(len(y)):\n",
        "    resta = (y[i]-y_pred[i])**2\n",
        "    y_list.append(resta)\n",
        "\n",
        "  sumatoria = sum(y_list)\n",
        "  mse = (1/n)*sumatoria\n",
        "\n",
        "  return mse"
      ],
      "metadata": {
        "id": "ocL0DZnHJLPp"
      },
      "execution_count": null,
      "outputs": []
    },
    {
      "cell_type": "code",
      "source": [
        "def regresion_lineal_multiple(lista_x,lista_y,l_rate):\n",
        "  m_list = np.zeros(lista_x.shape[1])\n",
        "  c = 0\n",
        "  new_m = np.zeros(lista_x.shape[1])\n",
        "  new_c = 0\n",
        "  cost_values = []\n",
        "  n= len(lista_x)\n",
        "  for i in range(2500):\n",
        "    m_list = new_m\n",
        "    c = new_c\n",
        "    predicted_yvalues = predict_y_multiple(X_train, m_list,c)\n",
        "    dc_value = calculate_dc(y_train,predicted_yvalues, n)\n",
        "    dm_value = calculate_dm(y_train,predicted_yvalues, n,X_train)\n",
        "\n",
        "    new_m = m_list-l_rate*dm_value\n",
        "\n",
        "    new_c = c-l_rate*dc_value\n",
        "\n",
        "    costo = cost_function_multiple(y_train,new_m,new_c,n,X_train)\n",
        "\n",
        "    cost_values.append(costo)\n",
        "\n",
        "  return new_m,new_c,cost_values"
      ],
      "metadata": {
        "id": "rKFzVTjsIwRP"
      },
      "execution_count": null,
      "outputs": []
    },
    {
      "cell_type": "code",
      "source": [
        "m,c,cost = regresion_lineal_multiple(X_train,y_train,0.01)"
      ],
      "metadata": {
        "id": "W-oQUgMw9qFy"
      },
      "execution_count": null,
      "outputs": []
    },
    {
      "cell_type": "code",
      "source": [
        "y_predicted = predict_y_multiple(X_test,m,c)"
      ],
      "metadata": {
        "id": "uMXF2fF4Npwq"
      },
      "execution_count": null,
      "outputs": []
    },
    {
      "cell_type": "code",
      "source": [
        "from sklearn.metrics import r2_score\n",
        "\n",
        "r2 = r2_score(y_test, y_predicted)\n",
        "print('r2 score for a model which predicts mean value always is', r2)"
      ],
      "metadata": {
        "colab": {
          "base_uri": "https://localhost:8080/"
        },
        "id": "duhltLMUADqx",
        "outputId": "a1178bc3-e68f-4ca8-f731-8f843dc7d2c4"
      },
      "execution_count": null,
      "outputs": [
        {
          "output_type": "stream",
          "name": "stdout",
          "text": [
            "r2 score for a model which predicts mean value always is 0.9317990130435988\n"
          ]
        }
      ]
    },
    {
      "cell_type": "code",
      "source": [
        "from matplotlib import pyplot as plt\n",
        "\n",
        "plt.plot(cost)"
      ],
      "metadata": {
        "colab": {
          "base_uri": "https://localhost:8080/",
          "height": 283
        },
        "id": "fatO4fm_AKQL",
        "outputId": "66f8a3bc-096b-4d67-a084-f66204c82fff"
      },
      "execution_count": null,
      "outputs": [
        {
          "output_type": "execute_result",
          "data": {
            "text/plain": [
              "[<matplotlib.lines.Line2D at 0x7fb99fcb9e10>]"
            ]
          },
          "metadata": {},
          "execution_count": 36
        },
        {
          "output_type": "display_data",
          "data": {
            "text/plain": [
              "<Figure size 432x288 with 1 Axes>"
            ],
            "image/png": "[encoded data removed]"
          },
          "metadata": {
            "needs_background": "light"
          }
        }
      ]
    },
    {
      "cell_type": "markdown",
      "source": [
        "Ejemplo 2"
      ],
      "metadata": {
        "id": "8p1DKeuvUuAW"
      }
    },
    {
      "cell_type": "code",
      "source": [
        "from sklearn.datasets import load_boston\n",
        "boston = load_boston()\n",
        "X = boston.data\n",
        "Y = boston.target"
      ],
      "metadata": {
        "colab": {
          "base_uri": "https://localhost:8080/"
        },
        "id": "HmayMxYHUv0P",
        "outputId": "64d8b140-7a55-4af9-8086-4e2ed202cffd"
      },
      "execution_count": null,
      "outputs": [
        {
          "output_type": "stream",
          "name": "stderr",
          "text": [
            "/usr/local/lib/python3.7/dist-packages/sklearn/utils/deprecation.py:87: FutureWarning: Function load_boston is deprecated; `load_boston` is deprecated in 1.0 and will be removed in 1.2.\n",
            "\n",
            "    The Boston housing prices dataset has an ethical problem. You can refer to\n",
            "    the documentation of this function for further details.\n",
            "\n",
            "    The scikit-learn maintainers therefore strongly discourage the use of this\n",
            "    dataset unless the purpose of the code is to study and educate about\n",
            "    ethical issues in data science and machine learning.\n",
            "\n",
            "    In this special case, you can fetch the dataset from the original\n",
            "    source::\n",
            "\n",
            "        import pandas as pd\n",
            "        import numpy as np\n",
            "\n",
            "\n",
            "        data_url = \"http://lib.stat.cmu.edu/datasets/boston\"\n",
            "        raw_df = pd.read_csv(data_url, sep=\"\\s+\", skiprows=22, header=None)\n",
            "        data = np.hstack([raw_df.values[::2, :], raw_df.values[1::2, :2]])\n",
            "        target = raw_df.values[1::2, 2]\n",
            "\n",
            "    Alternative datasets include the California housing dataset (i.e.\n",
            "    :func:`~sklearn.datasets.fetch_california_housing`) and the Ames housing\n",
            "    dataset. You can load the datasets as follows::\n",
            "\n",
            "        from sklearn.datasets import fetch_california_housing\n",
            "        housing = fetch_california_housing()\n",
            "\n",
            "    for the California housing dataset and::\n",
            "\n",
            "        from sklearn.datasets import fetch_openml\n",
            "        housing = fetch_openml(name=\"house_prices\", as_frame=True)\n",
            "\n",
            "    for the Ames housing dataset.\n",
            "    \n",
            "  warnings.warn(msg, category=FutureWarning)\n"
          ]
        }
      ]
    },
    {
      "cell_type": "code",
      "source": [
        "from sklearn.preprocessing import StandardScaler\n",
        "sc=StandardScaler()\n",
        "X=sc.fit_transform(X)"
      ],
      "metadata": {
        "id": "pQju0hN1Uwmb"
      },
      "execution_count": null,
      "outputs": []
    },
    {
      "cell_type": "code",
      "source": [
        "from sklearn.model_selection import train_test_split\n",
        "\n",
        "X_train, X_test, y_train, y_test = train_test_split(X, Y, test_size=0.33, random_state=42)"
      ],
      "metadata": {
        "id": "SWiQUsf6U0cN"
      },
      "execution_count": null,
      "outputs": []
    },
    {
      "cell_type": "code",
      "source": [
        "m,c,cost = regresion_lineal_multiple(X_train,y_train,0.001)"
      ],
      "metadata": {
        "id": "Cr8oEsD-U3cL"
      },
      "execution_count": null,
      "outputs": []
    },
    {
      "cell_type": "code",
      "source": [
        "y_predicted = predict_y_multiple(X_test,m,c)"
      ],
      "metadata": {
        "id": "cxVx20lUU61D"
      },
      "execution_count": null,
      "outputs": []
    },
    {
      "cell_type": "code",
      "source": [
        "from sklearn.metrics import r2_score\n",
        "\n",
        "r2 = r2_score(y_test, y_predicted)\n",
        "print('r2 score for a model which predicts mean value always is', r2)"
      ],
      "metadata": {
        "colab": {
          "base_uri": "https://localhost:8080/"
        },
        "id": "SRokyyBFU9v6",
        "outputId": "c7bcbdde-6170-421e-cb10-cfcc518e0103"
      },
      "execution_count": null,
      "outputs": [
        {
          "output_type": "stream",
          "name": "stdout",
          "text": [
            "r2 score for a model which predicts mean value always is 0.7050731972589709\n"
          ]
        }
      ]
    },
    {
      "cell_type": "code",
      "source": [
        "from matplotlib import pyplot as plt\n",
        "\n",
        "plt.plot(cost)"
      ],
      "metadata": {
        "colab": {
          "base_uri": "https://localhost:8080/",
          "height": 283
        },
        "id": "CVXdsSdeU_60",
        "outputId": "d0fab78c-ea5a-44ce-d388-19f5163d338b"
      },
      "execution_count": null,
      "outputs": [
        {
          "output_type": "execute_result",
          "data": {
            "text/plain": [
              "[<matplotlib.lines.Line2D at 0x7fb99f474d90>]"
            ]
          },
          "metadata": {},
          "execution_count": 43
        },
        {
          "output_type": "display_data",
          "data": {
            "text/plain": [
              "<Figure size 432x288 with 1 Axes>"
            ],
            "image/png": "[encoded data removed]"
          },
          "metadata": {
            "needs_background": "light"
          }
        }
      ]
    }
  ]
}